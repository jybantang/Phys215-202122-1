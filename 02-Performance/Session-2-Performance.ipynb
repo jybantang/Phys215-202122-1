{
 "cells": [
  {
   "cell_type": "code",
   "execution_count": 4,
   "id": "572692f6",
   "metadata": {
    "slideshow": {
     "slide_type": "slide"
    }
   },
   "outputs": [
    {
     "name": "stderr",
     "output_type": "stream",
     "text": [
      "\u001b[32m\u001b[1m  Activating\u001b[22m\u001b[39m environment at `~/Documents/GitHub/Phys215-202122-1/02-Performance/Project.toml`\n",
      "\u001b[32m\u001b[1m   Resolving\u001b[22m\u001b[39m package versions...\n",
      "\u001b[32m\u001b[1m  No Changes\u001b[22m\u001b[39m to `~/Documents/GitHub/Phys215-202122-1/02-Performance/Project.toml`\n",
      "\u001b[32m\u001b[1m  No Changes\u001b[22m\u001b[39m to `~/Documents/GitHub/Phys215-202122-1/02-Performance/Manifest.toml`\n",
      "\u001b[32m\u001b[1m   Resolving\u001b[22m\u001b[39m package versions...\n",
      "\u001b[32m\u001b[1m  No Changes\u001b[22m\u001b[39m to `~/Documents/GitHub/Phys215-202122-1/02-Performance/Project.toml`\n",
      "\u001b[32m\u001b[1m  No Changes\u001b[22m\u001b[39m to `~/Documents/GitHub/Phys215-202122-1/02-Performance/Manifest.toml`\n",
      "\u001b[32m\u001b[1m   Resolving\u001b[22m\u001b[39m package versions...\n",
      "\u001b[32m\u001b[1m  No Changes\u001b[22m\u001b[39m to `~/Documents/GitHub/Phys215-202122-1/02-Performance/Project.toml`\n",
      "\u001b[32m\u001b[1m  No Changes\u001b[22m\u001b[39m to `~/Documents/GitHub/Phys215-202122-1/02-Performance/Manifest.toml`\n"
     ]
    }
   ],
   "source": [
    "using Pkg\n",
    "Pkg.activate(\".\") #local environment\n",
    "Pkg.add(\"BenchmarkTools\")\n",
    "Pkg.add(\"Plots\")\n",
    "Pkg.add(\"Profile\")"
   ]
  },
  {
   "cell_type": "markdown",
   "id": "2008f1bb",
   "metadata": {
    "slideshow": {
     "slide_type": "slide"
    }
   },
   "source": [
    "# Analyzing Performance\n",
    "\n",
    "1. Timing Julia functions\n",
    "2. Accurate benchmarking\n",
    "3. Profiling Julia functions\n",
    "4. (optional) Tracking detailed memory allocation"
   ]
  },
  {
   "cell_type": "markdown",
   "id": "8096d89e",
   "metadata": {
    "slideshow": {
     "slide_type": "slide"
    }
   },
   "source": [
    "# Timing Julia functions\n",
    "\n",
    "Uses the `@time` and other related macros."
   ]
  },
  {
   "cell_type": "code",
   "execution_count": 10,
   "id": "91767505",
   "metadata": {},
   "outputs": [
    {
     "name": "stdout",
     "output_type": "stream",
     "text": [
      "  0.000012 seconds (2 allocations: 15.875 KiB)\n"
     ]
    }
   ],
   "source": [
    "@time sqrt.(rand(1_000));"
   ]
  },
  {
   "cell_type": "code",
   "execution_count": 11,
   "id": "2ea8db63",
   "metadata": {
    "slideshow": {
     "slide_type": "fragment"
    }
   },
   "outputs": [
    {
     "name": "stdout",
     "output_type": "stream",
     "text": [
      "  6.450345 seconds (2.00 M allocations: 15.140 GiB, 37.97% gc time)\n"
     ]
    }
   ],
   "source": [
    "@time for _ in 1:1_000_000 sqrt.(rand(1_000)) end"
   ]
  },
  {
   "cell_type": "markdown",
   "id": "a0b3c033",
   "metadata": {
    "slideshow": {
     "slide_type": "slide"
    }
   },
   "source": [
    "# The ECA model\n",
    "\n",
    "The Cellular Automata (CA) is a mathematical model composed of individual units called \"cells\".\n",
    "Each cell has a state $s \\in \\mathcal{S}$ which can either be continuous or discrete.\n",
    "Each cell automatically updates its state $s$ according to its neighborhood state $n\\in \\mathcal{N}$ such that the transformation $R: \\mathcal{N} \\rightarrow \\mathcal{S}$ is specified.\n",
    "The neighborhood of a given cell is defined by $\\mathcal{N}$.\n",
    "The entire system of cells is usually placed on a scaffolding, often as a rectangular lattice, we can label as $\\mathcal{L}$.\n",
    "\n",
    "The elementary CA (ECA) is defined most clearly by S. Wolfram (inventor of the _Mathematica_).\n",
    "The ECA is defined as:\n",
    "- $\\mathcal{S} = \\{0,1\\}$\n",
    "- $\\mathcal{N} = \\mathcal{S}^3$\n",
    "- $\\mathcal{L} = (s_0, s_1, \\ldots, s_i, \\ldots, s_M)$\n",
    "- The neighborhood $n_i$ of $s_i$ is $(s_{i-1}, s_i, s_{i+1})$\n",
    "- The boundary condition is usually that $n_0=(0,s_1,s_2)$ and $n_0=(s_{N-1},s_N,0)$"
   ]
  },
  {
   "cell_type": "code",
   "execution_count": null,
   "id": "bfc52258",
   "metadata": {},
   "outputs": [],
   "source": []
  }
 ],
 "metadata": {
  "celltoolbar": "Slideshow",
  "kernelspec": {
   "display_name": "Julia 1.6.1",
   "language": "julia",
   "name": "julia-1.6"
  },
  "language_info": {
   "file_extension": ".jl",
   "mimetype": "application/julia",
   "name": "julia",
   "version": "1.6.2"
  }
 },
 "nbformat": 4,
 "nbformat_minor": 5
}
