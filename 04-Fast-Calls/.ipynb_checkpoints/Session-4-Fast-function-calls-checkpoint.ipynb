{
 "cells": [
  {
   "cell_type": "code",
   "execution_count": null,
   "id": "9f2746c8",
   "metadata": {
    "scrolled": false,
    "slideshow": {
     "slide_type": "slide"
    }
   },
   "outputs": [],
   "source": [
    "using Pkg;\n",
    "Pkg.activate(\".\")\n",
    "Pkg.add(\"BenchmarkTools\")\n",
    "Pkg.add(\"DataFrames\")\n",
    "\n",
    "using BenchmarkTools\n",
    "using DataFrames"
   ]
  },
  {
   "cell_type": "markdown",
   "id": "675f5c88",
   "metadata": {
    "slideshow": {
     "slide_type": "slide"
    }
   },
   "source": [
    "# Session 4: Fast function calls\n",
    "\n",
    "Since function is the basic procedural structure in Julia, one needs to understand the behavior of different ways of implementing the same function.\n",
    "Implementation / coding style can drastically change the performance of Julia code.\n",
    "\n",
    "- Using globals\n",
    "- Inlining\n",
    "- Constant propagation\n",
    "- Macros\n",
    "- Generated functions (optional)\n",
    "- Named parameters (optional)"
   ]
  },
  {
   "cell_type": "markdown",
   "id": "04a74073",
   "metadata": {
    "slideshow": {
     "slide_type": "subslide"
    }
   },
   "source": [
    "## Session 4 OKR\n",
    "\n",
    "**OBJECTIVE**: Compare benchmark times of different implementation of functions that can be expressed as a recursion relation.\n",
    " - [ ] **KR1:** Benchmarked at least two(2) different implementation of the same function or process (e.g. raising each element of an array to some power `p`, random array may be used) that utilizes some parameter that can be considered a constant or declared globally.\n",
    " Typical methods: (1) Global variable, (2) Constant global variable, and (3) Named parameter variable.\n",
    " - [ ] **KR2:** Replicated the naive implementation of the polynomial in the textbook.\n",
    " - [ ] **KR3:** Replicated the naive implementation of the Horner's method for the same polynomial.\n",
    " - [ ] **KR4:** Replicated the macro implementation of the Horner's method of the same polynomial.\n",
    " - [ ] **KR5:** Table showing how many _minutes_ will the function evaluations in both KR3 and KR4 be reduced if KR2 requires 24hours of runtime."
   ]
  },
  {
   "cell_type": "markdown",
   "id": "4a754823",
   "metadata": {
    "slideshow": {
     "slide_type": "slide"
    }
   },
   "source": [
    "# Global variables\n",
    "\n",
    "Function call is affected by the presence of global variables in them.\n",
    "The best option is to use a constant."
   ]
  },
  {
   "cell_type": "code",
   "execution_count": null,
   "id": "c3e92981",
   "metadata": {
    "slideshow": {
     "slide_type": "-"
    }
   },
   "outputs": [],
   "source": [
    "p = 2;\n",
    "\n",
    "function raisetop(x::Vector)\n",
    "    s = zero(eltype(x));\n",
    "    for xel in x\n",
    "        s = s + xel^p\n",
    "    end\n",
    "    return s\n",
    "end"
   ]
  },
  {
   "cell_type": "code",
   "execution_count": null,
   "id": "1503b1d9",
   "metadata": {
    "slideshow": {
     "slide_type": "fragment"
    }
   },
   "outputs": [],
   "source": [
    "data = rand(100_000);"
   ]
  },
  {
   "cell_type": "code",
   "execution_count": null,
   "id": "82f1c3b7",
   "metadata": {
    "slideshow": {
     "slide_type": "subslide"
    }
   },
   "outputs": [],
   "source": [
    "mark0 = @benchmark raisetop($data)"
   ]
  },
  {
   "cell_type": "code",
   "execution_count": null,
   "id": "4a627fa5",
   "metadata": {
    "scrolled": false,
    "slideshow": {
     "slide_type": "subslide"
    }
   },
   "outputs": [],
   "source": [
    "@code_warntype raisetop(data)"
   ]
  },
  {
   "cell_type": "code",
   "execution_count": null,
   "id": "e0d11c75",
   "metadata": {
    "slideshow": {
     "slide_type": "subslide"
    }
   },
   "outputs": [],
   "source": [
    "const pconst = 2;\n",
    "\n",
    "function raisetop_const(x::Vector)\n",
    "    s = zero(eltype(x));\n",
    "    for xel in x\n",
    "        s = s + xel^pconst # <<the only difference!\n",
    "    end\n",
    "    return s\n",
    "end"
   ]
  },
  {
   "cell_type": "code",
   "execution_count": null,
   "id": "9c8c9467",
   "metadata": {
    "scrolled": true,
    "slideshow": {
     "slide_type": "subslide"
    }
   },
   "outputs": [],
   "source": [
    "mark1 = @benchmark raisetop_const($data)"
   ]
  },
  {
   "cell_type": "code",
   "execution_count": null,
   "id": "73504e4e",
   "metadata": {
    "slideshow": {
     "slide_type": "subslide"
    }
   },
   "outputs": [],
   "source": [
    "speedup1 = median(mark0.times) / median(mark1.times);\n",
    "table = DataFrame(\"Method\"=>[\"Global\",\"Constant\"],\"Speedup\" => [1.0, speedup1]);\n",
    "\n",
    "print(table)"
   ]
  },
  {
   "cell_type": "code",
   "execution_count": null,
   "id": "3b83f8b2",
   "metadata": {
    "slideshow": {
     "slide_type": "subslide"
    }
   },
   "outputs": [],
   "source": [
    "@code_warntype raisetop_const(data)"
   ]
  },
  {
   "cell_type": "markdown",
   "id": "34f044ca",
   "metadata": {
    "slideshow": {
     "slide_type": "subslide"
    }
   },
   "source": [
    "**Global variables are of type `Any` in current Julia version**"
   ]
  },
  {
   "cell_type": "code",
   "execution_count": null,
   "id": "79b402bd",
   "metadata": {
    "scrolled": false
   },
   "outputs": [],
   "source": [
    "pInt::Int64 = 2 #forced type is not possible **yet**"
   ]
  },
  {
   "cell_type": "code",
   "execution_count": null,
   "id": "3928ef2c",
   "metadata": {
    "slideshow": {
     "slide_type": "subslide"
    }
   },
   "outputs": [],
   "source": [
    "function raisetop_param(x::Vector; pow=2)\n",
    "    s = zero(eltype(x));\n",
    "    for xel in x\n",
    "        s = s + xel^pow # <<the only difference!\n",
    "    end\n",
    "    return s    \n",
    "end"
   ]
  },
  {
   "cell_type": "code",
   "execution_count": null,
   "id": "b6f36164",
   "metadata": {
    "slideshow": {
     "slide_type": "subslide"
    }
   },
   "outputs": [],
   "source": [
    "mark2 = @benchmark raisetop_param($data, pow=p)"
   ]
  },
  {
   "cell_type": "code",
   "execution_count": null,
   "id": "c6ffc553",
   "metadata": {
    "scrolled": true,
    "slideshow": {
     "slide_type": "subslide"
    }
   },
   "outputs": [],
   "source": [
    "mark2a = @benchmark raisetop_param($data, pow=2)"
   ]
  },
  {
   "cell_type": "code",
   "execution_count": null,
   "id": "bcec3962",
   "metadata": {
    "slideshow": {
     "slide_type": "subslide"
    }
   },
   "outputs": [],
   "source": [
    "mark2b = @benchmark raisetop_param($data, pow=pconst)"
   ]
  },
  {
   "cell_type": "code",
   "execution_count": null,
   "id": "53d5bef6",
   "metadata": {
    "slideshow": {
     "slide_type": "subslide"
    }
   },
   "outputs": [],
   "source": [
    "speedup2 = median(mark0.times) / median(mark2.times)\n",
    "speedup2a = median(mark0.times) / median(mark2a.times)\n",
    "speedup2b = median(mark0.times) / median(mark2b.times)\n",
    "\n",
    "push!(table, [\"Parametrized\", speedup2]);\n",
    "push!(table, [\"Parametrized const.exp\", speedup2a]);\n",
    "push!(table, [\"Parametrized const.imp\", speedup2b]);\n",
    "\n",
    "print(table)"
   ]
  },
  {
   "cell_type": "code",
   "execution_count": null,
   "id": "dee4457c",
   "metadata": {
    "slideshow": {
     "slide_type": "subslide"
    }
   },
   "outputs": [],
   "source": [
    "@code_warntype raisetop_param(data; pow=pconst)"
   ]
  },
  {
   "cell_type": "markdown",
   "id": "ba588c72",
   "metadata": {
    "slideshow": {
     "slide_type": "subslide"
    }
   },
   "source": [
    "## Using `Base.map()`"
   ]
  },
  {
   "cell_type": "code",
   "execution_count": null,
   "id": "519034cf",
   "metadata": {},
   "outputs": [],
   "source": [
    "function raisetop_map(data; pow=pconst)\n",
    "    raised = zeros(size(data))\n",
    "    map!(x->x^pow, raised, data)\n",
    "    return sum(raised)\n",
    "end"
   ]
  },
  {
   "cell_type": "code",
   "execution_count": null,
   "id": "f359c502",
   "metadata": {
    "slideshow": {
     "slide_type": "subslide"
    }
   },
   "outputs": [],
   "source": [
    "mark3 = @benchmark raisetop_map($data, pow=pconst)"
   ]
  },
  {
   "cell_type": "code",
   "execution_count": null,
   "id": "48f5eb2d",
   "metadata": {
    "slideshow": {
     "slide_type": "subslide"
    }
   },
   "outputs": [],
   "source": [
    "speedup3 = median(mark0.times) / median(mark3.times)\n",
    "\n",
    "push!(table, [\"Base.mapped!\", speedup3]);\n",
    "\n",
    "print(table)"
   ]
  },
  {
   "cell_type": "markdown",
   "id": "d0c00b6c",
   "metadata": {
    "slideshow": {
     "slide_type": "slide"
    }
   },
   "source": [
    "# Inlining\n",
    "\n",
    "Used in generating the LLVM Intermediate Representation (IR) that can reduce expressions *at* compile time to reduce function calls."
   ]
  },
  {
   "cell_type": "code",
   "execution_count": null,
   "id": "0f116dff",
   "metadata": {},
   "outputs": [],
   "source": [
    "function f(x)\n",
    "    a = 5x\n",
    "    b = a + 2\n",
    "end\n",
    "\n",
    "g(x) = f(4x)"
   ]
  },
  {
   "cell_type": "code",
   "execution_count": null,
   "id": "65940c60",
   "metadata": {
    "slideshow": {
     "slide_type": "subslide"
    }
   },
   "outputs": [],
   "source": [
    "@code_typed g(3)"
   ]
  },
  {
   "cell_type": "code",
   "execution_count": null,
   "id": "83d30686",
   "metadata": {
    "slideshow": {
     "slide_type": "-"
    }
   },
   "outputs": [],
   "source": [
    "@code_llvm g(3)"
   ]
  },
  {
   "cell_type": "markdown",
   "id": "5350ce82",
   "metadata": {
    "slideshow": {
     "slide_type": "subslide"
    }
   },
   "source": [
    "## Inlining can be controlled\n",
    "\n",
    "The automatic inlining may be based on the number of lines or operations that your code does.\n",
    "\n",
    "Since the advantage of inline is related to constants that may be involved, it is best to _force_ Julia to do inlining using the macro `@inline`.\n",
    "The inline seems to be a default in the later versions of Julia.\n",
    "\n",
    "Inlining can be disabled in Julia using the `@noinline` macro."
   ]
  },
  {
   "cell_type": "code",
   "execution_count": null,
   "id": "b6967a8c",
   "metadata": {},
   "outputs": [],
   "source": [
    "@noinline function f_ni(x)\n",
    "    a = x*5\n",
    "    b = a + 3\n",
    "end\n",
    "\n",
    "g_ni(x) = f_ni(2*x)"
   ]
  },
  {
   "cell_type": "code",
   "execution_count": null,
   "id": "7adbfbb6",
   "metadata": {
    "slideshow": {
     "slide_type": "subslide"
    }
   },
   "outputs": [],
   "source": [
    "@code_typed g_ni(3)"
   ]
  },
  {
   "cell_type": "code",
   "execution_count": null,
   "id": "9126d2cf",
   "metadata": {
    "scrolled": true
   },
   "outputs": [],
   "source": [
    "@code_llvm g_ni(3)"
   ]
  },
  {
   "cell_type": "markdown",
   "id": "f58d8d70",
   "metadata": {},
   "source": [
    "The main difference is the `invoke` that translates to a `call` step instead of doing the operation almost _symbolically_ before encoding."
   ]
  },
  {
   "cell_type": "markdown",
   "id": "e09b3ef2",
   "metadata": {
    "slideshow": {
     "slide_type": "slide"
    }
   },
   "source": [
    "# Propagation of constant value\n",
    "\n",
    "Sometimes, constants are evaluated at compile time (JIT) resulting to more efficient execution at runtime.\n",
    "> When a function is called with an argument that is known at compile time, the invocation can happen once at compile time, and the call is then replaced with a constant value at runtime.\n",
    "\n",
    "Such constant propagation happens even across functions resulting further optimization.\n",
    "\n",
    "Consider the two functions that follow."
   ]
  },
  {
   "cell_type": "code",
   "execution_count": null,
   "id": "69fd0c6f",
   "metadata": {},
   "outputs": [],
   "source": [
    "sqr(x) = x*x\n",
    "sqr2() = sqr(2)\n",
    "\n",
    "sqrlog(x) = log(x*x)\n",
    "sqrlog2() = sqrlog(2.0)"
   ]
  },
  {
   "cell_type": "code",
   "execution_count": null,
   "id": "acc878fe",
   "metadata": {
    "slideshow": {
     "slide_type": "subslide"
    }
   },
   "outputs": [],
   "source": [
    "@code_typed sqr2()"
   ]
  },
  {
   "cell_type": "code",
   "execution_count": null,
   "id": "1ecc70d6",
   "metadata": {},
   "outputs": [],
   "source": [
    "sqr2() === 4"
   ]
  },
  {
   "cell_type": "code",
   "execution_count": null,
   "id": "a78320ee",
   "metadata": {
    "slideshow": {
     "slide_type": "subslide"
    }
   },
   "outputs": [],
   "source": [
    "@code_llvm sqr2()"
   ]
  },
  {
   "cell_type": "code",
   "execution_count": null,
   "id": "d668006c",
   "metadata": {
    "slideshow": {
     "slide_type": "subslide"
    }
   },
   "outputs": [],
   "source": [
    "@code_typed sqrlog2()"
   ]
  },
  {
   "cell_type": "markdown",
   "id": "f9f53583",
   "metadata": {
    "slideshow": {
     "slide_type": "subslide"
    }
   },
   "source": [
    "The result is truly a constant being equivalent to the actual memory value."
   ]
  },
  {
   "cell_type": "code",
   "execution_count": null,
   "id": "dd061ecd",
   "metadata": {},
   "outputs": [],
   "source": [
    "@code_llvm sqrlog2()"
   ]
  },
  {
   "cell_type": "code",
   "execution_count": null,
   "id": "e0df65f7",
   "metadata": {},
   "outputs": [],
   "source": [
    "sqrlog2() === log(4.0)"
   ]
  },
  {
   "cell_type": "markdown",
   "id": "18f7bb34",
   "metadata": {
    "slideshow": {
     "slide_type": "fragment"
    }
   },
   "source": [
    "## Notes\n",
    "\n",
    "> Constant propagation is likely to be applied only to functions that are pure – in other words, functions that do not have side effects. This means that these functions not only do not modify or mutate any of its arguments, but they also do not change any global state."
   ]
  },
  {
   "cell_type": "code",
   "execution_count": null,
   "id": "3d8b71b2",
   "metadata": {
    "slideshow": {
     "slide_type": "skip"
    }
   },
   "outputs": [],
   "source": []
  },
  {
   "cell_type": "markdown",
   "id": "cc55a09b",
   "metadata": {
    "slideshow": {
     "slide_type": "slide"
    }
   },
   "source": [
    "# Julia macro\n",
    "\n",
    "Macros are used to make a sequence of computing instructions available to the programmer as a single program statement, making the programming task less tedious and less error-prone.\n",
    "(Thus, they are called \"macros\" because a \"big\" block of code can be expanded from a \"small\" sequence of characters.)[^1]\n",
    "\n",
    "In general, a macro is a way to generate the code before compilation.\n",
    "> Macros are usually used as a means to reduce repetitive code, whereby large volumes of code with a common pattern can be generated from a smaller set of primitives. [textbook]\n",
    "\n",
    "[^1]:https://en.wikipedia.org/wiki/Macro_(computer_science)"
   ]
  },
  {
   "cell_type": "markdown",
   "id": "7f032ace",
   "metadata": {
    "slideshow": {
     "slide_type": "subslide"
    }
   },
   "source": [
    "# Polynomial evaluation\n",
    "\n",
    "Special functions have already been implemented in several packages.\n",
    "However, it is interesting to know that often a more efficient implementation can be obtained via macros.\n",
    "\n",
    "Consider a simple polynomial evaluation via the naive expression.\n",
    "$$\n",
    "p(x) = \\sum_{i=0}^{n} a_i x^i = a_0 + a_1 x + a_2 x^2 + \\cdots + a_n x^n\n",
    "$$\n",
    "\n",
    "A simplistic implementation is then as follows."
   ]
  },
  {
   "cell_type": "code",
   "execution_count": null,
   "id": "4cf4390f",
   "metadata": {},
   "outputs": [],
   "source": [
    "function poly_naive(x, a...) #uses splat operator `...`\n",
    "    p = zero(x)\n",
    "    for i in eachindex(a)\n",
    "        p = p + a[i] * x^(i-1)\n",
    "    end\n",
    "    return p\n",
    "end"
   ]
  },
  {
   "cell_type": "code",
   "execution_count": null,
   "id": "6ccf8e26",
   "metadata": {
    "slideshow": {
     "slide_type": "subslide"
    }
   },
   "outputs": [],
   "source": [
    "f_naive(x) = poly_naive(x, 1,2,3,4,5,6,7,8,9)"
   ]
  },
  {
   "cell_type": "code",
   "execution_count": null,
   "id": "6ffa8567",
   "metadata": {},
   "outputs": [],
   "source": [
    "x = 3.5"
   ]
  },
  {
   "cell_type": "code",
   "execution_count": null,
   "id": "83d1688a",
   "metadata": {},
   "outputs": [],
   "source": [
    "mark0 = @benchmark f_naive($x)"
   ]
  },
  {
   "cell_type": "markdown",
   "id": "0100a3b6",
   "metadata": {
    "slideshow": {
     "slide_type": "subslide"
    }
   },
   "source": [
    "## Horner's method for polynomial evaluation\n",
    "\n",
    "This method uses the following recursion relation\n",
    "$$\\begin{eqnarray}\n",
    "b_n &=& a_n \\\\\n",
    "b_{n-1} &=& a_{n-1} + b_n x \\\\\n",
    "b_{n-2} &=& a_{n-2} + b_{n-1} x \\\\\n",
    "&\\vdots& \\\\\n",
    "b_0 &=& a_0 + b_1 x\n",
    "\\end{eqnarray}$$\n",
    "such that $p(x) = b_0$."
   ]
  },
  {
   "cell_type": "code",
   "execution_count": null,
   "id": "03c97598",
   "metadata": {},
   "outputs": [],
   "source": [
    "function poly_h(x, a...)\n",
    "    b = zero(x)\n",
    "    for i in reverse(eachindex(a))\n",
    "        b = a[i] + b*x\n",
    "    end\n",
    "    return b\n",
    "end"
   ]
  },
  {
   "cell_type": "code",
   "execution_count": null,
   "id": "ecc49b53",
   "metadata": {
    "slideshow": {
     "slide_type": "subslide"
    }
   },
   "outputs": [],
   "source": [
    "f_h(x) = poly_h(x, 1,2,3,4,5,6,7,8,9)"
   ]
  },
  {
   "cell_type": "code",
   "execution_count": null,
   "id": "3223836e",
   "metadata": {},
   "outputs": [],
   "source": [
    "mark1 = @benchmark f_h($x)"
   ]
  },
  {
   "cell_type": "code",
   "execution_count": null,
   "id": "34aa997d",
   "metadata": {
    "slideshow": {
     "slide_type": "subslide"
    }
   },
   "outputs": [],
   "source": [
    "speedup1 = median(mark0.times) / median(mark1.times)\n",
    "\n",
    "table = DataFrame(\"Method\"=>[\"Naive\",\"Horner\"],\"Speedup\" => [1.0, speedup1]);\n",
    "\n",
    "print(table)"
   ]
  },
  {
   "cell_type": "markdown",
   "id": "9ab2c03d",
   "metadata": {
    "slideshow": {
     "slide_type": "subslide"
    }
   },
   "source": [
    "## Using macro with Horner's method\n",
    "\n",
    "This requires the recognition that there's an existing function called `muladd()` and exploit this for generating the expanded code for the Horner's method.\n",
    "With `muladd()` we have the following recursion.\n",
    "```\n",
    "b = a[n]\n",
    "b = muladd( x, b, a[n-1] ) = muladd( x, a[n], a[n-1] )\n",
    "b = muladd( x, b, a[n-2] ) = muladd( x, muladd( x, a[n], a[n-1] ), a[n-2] )\n",
    "b = muladd( x, b, a[n-3] ) = muladd( x, muladd( x, muladd( x, a[n], a[n-1] ), a[n-2] ), a[n-3] )\n",
    "...\n",
    "b = = muladd( x, ..., muladd( x, muladd( x, a[n], a[n-1] ), a[n-2] ), a[n-3], ..., a[1] )\n",
    "```"
   ]
  },
  {
   "cell_type": "code",
   "execution_count": null,
   "id": "660819df",
   "metadata": {},
   "outputs": [],
   "source": [
    "macro horner(x, p...)\n",
    "    ex = esc(p[end])\n",
    "    for i in length(p)-1:-1:1\n",
    "        ex = :(muladd(t,$(ex), $(esc(p[i]))))\n",
    "    end\n",
    "    Expr(:block, :(t=$(esc(x))), ex)\n",
    "end"
   ]
  },
  {
   "cell_type": "code",
   "execution_count": null,
   "id": "d984195c",
   "metadata": {
    "slideshow": {
     "slide_type": "subslide"
    }
   },
   "outputs": [],
   "source": [
    "f_h_macro(x) = @horner(x, 1,2,3,4,5,6,7,8,9)"
   ]
  },
  {
   "cell_type": "code",
   "execution_count": null,
   "id": "2c471b5a",
   "metadata": {},
   "outputs": [],
   "source": [
    "mark2 = @benchmark f_h_macro($x)"
   ]
  },
  {
   "cell_type": "code",
   "execution_count": null,
   "id": "4ed94bc7",
   "metadata": {
    "slideshow": {
     "slide_type": "subslide"
    }
   },
   "outputs": [],
   "source": [
    "speedup2 = median(mark0.times) / median(mark2.times)\n",
    "\n",
    "push!(table, [\"Macro\", speedup2]);\n",
    "\n",
    "print(table)"
   ]
  },
  {
   "cell_type": "code",
   "execution_count": null,
   "id": "7caf9d0d",
   "metadata": {
    "slideshow": {
     "slide_type": "subslide"
    }
   },
   "outputs": [],
   "source": [
    "for r in eachrow(table)\n",
    "    println(\"$(24*60/r.Speedup) mins for $(r.Method) method.\")\n",
    "end"
   ]
  },
  {
   "cell_type": "code",
   "execution_count": null,
   "id": "a0ea2256",
   "metadata": {},
   "outputs": [],
   "source": [
    "transform!(table,:Speedup=>ByRow(x->24*60/x)=>:\"Time(mins)\")\n",
    "print(table)"
   ]
  },
  {
   "cell_type": "markdown",
   "id": "7d72ab02",
   "metadata": {},
   "source": [
    "# Fin. [Back](./README.md)."
   ]
  }
 ],
 "metadata": {
  "celltoolbar": "Slideshow",
  "kernelspec": {
   "display_name": "Julia 1.6.3",
   "language": "julia",
   "name": "julia-1.6"
  },
  "language_info": {
   "file_extension": ".jl",
   "mimetype": "application/julia",
   "name": "julia",
   "version": "1.6.3"
  }
 },
 "nbformat": 4,
 "nbformat_minor": 5
}
