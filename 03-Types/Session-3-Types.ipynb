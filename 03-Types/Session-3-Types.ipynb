{
 "cells": [
  {
   "cell_type": "markdown",
   "metadata": {},
   "source": [
    "# Session 03 - Types, type inference and stability"
   ]
  },
  {
   "cell_type": "code",
   "execution_count": 1,
   "metadata": {},
   "outputs": [
    {
     "name": "stderr",
     "output_type": "stream",
     "text": [
      "\u001b[32m\u001b[1m  Activating\u001b[22m\u001b[39m environment at `~/Documents/GitHub/Phys215-202122-1/03-Types/Project.toml`\n",
      "\u001b[32m\u001b[1m    Updating\u001b[22m\u001b[39m registry at `~/.julia/registries/General`\n",
      "\u001b[32m\u001b[1m   Resolving\u001b[22m\u001b[39m package versions...\n",
      "\u001b[32m\u001b[1m  No Changes\u001b[22m\u001b[39m to `~/Documents/GitHub/Phys215-202122-1/03-Types/Project.toml`\n",
      "\u001b[32m\u001b[1m  No Changes\u001b[22m\u001b[39m to `~/Documents/GitHub/Phys215-202122-1/03-Types/Manifest.toml`\n",
      "\u001b[32m\u001b[1m   Resolving\u001b[22m\u001b[39m package versions...\n",
      "\u001b[32m\u001b[1m  No Changes\u001b[22m\u001b[39m to `~/Documents/GitHub/Phys215-202122-1/03-Types/Project.toml`\n",
      "\u001b[32m\u001b[1m  No Changes\u001b[22m\u001b[39m to `~/Documents/GitHub/Phys215-202122-1/03-Types/Manifest.toml`\n",
      "\u001b[32m\u001b[1m    Updating\u001b[22m\u001b[39m registry at `~/.julia/registries/General`\n",
      "\u001b[32m\u001b[1m  No Changes\u001b[22m\u001b[39m to `~/Documents/GitHub/Phys215-202122-1/03-Types/Project.toml`\n",
      "\u001b[32m\u001b[1m  No Changes\u001b[22m\u001b[39m to `~/Documents/GitHub/Phys215-202122-1/03-Types/Manifest.toml`\n"
     ]
    },
    {
     "name": "stdout",
     "output_type": "stream",
     "text": [
      "\u001b[32m\u001b[1m      Status\u001b[22m\u001b[39m `~/Documents/GitHub/Phys215-202122-1/03-Types/Project.toml`\n",
      " \u001b[90m [6e4b80f9] \u001b[39mBenchmarkTools v1.2.0\n",
      " \u001b[90m [91a5bcdd] \u001b[39mPlots v1.22.4\n"
     ]
    }
   ],
   "source": [
    "using Pkg;\n",
    "Pkg.activate(\".\");\n",
    "Pkg.add(\"Plots\");\n",
    "Pkg.add(\"BenchmarkTools\");\n",
    "Pkg.update()\n",
    "Pkg.status()"
   ]
  },
  {
   "cell_type": "markdown",
   "metadata": {},
   "source": [
    "# Session 3 OKR\n",
    "\n",
    "**OBJECTIVE**: Demonstrate the dynamic programming features of Julia\n",
    " - [ ] **KR1:** Shown or demonstrated the hierarchy of Julia's type hierarchy using the command `subtypes()`. \n",
    "    Start from `Number` and use `subtypes()` to explore from _abstract types_ down to _specific types_. \n",
    "    Use `supertype()` to determine the _parent_ abstract type.\n",
    " - [ ] **KR2:** Implemented and used at least one own composite type via `struct`.\n",
    "   Generate two more versions that are mutable type and type-parametrized of the custom-built type.\n",
    " - [ ] **KR3:** Demonstrated type inference in Julia.\n",
    "   Generators may be used for this.\n",
    " - [ ] **KR4:** Created a function with inherent type-*instability*.\n",
    "   Create a version of the function with fixed *type-instability* issues.\n",
    " - [ ] **KR5:** Demonstration of how `@code_warntype` can be useful in detecting *type-instability*.\n",
    " - [ ] **KR6:** Demonstration of how `Array`s containing ambiguous/abstract types often results to slow execution of codes.\n",
    "   The `BenchmarkTools` may be useful in this part."
   ]
  },
  {
   "cell_type": "markdown",
   "metadata": {},
   "source": [
    "# Julia type hierarchy\n",
    "\n",
    "The highest data type in Julia is `Any`."
   ]
  },
  {
   "cell_type": "code",
   "execution_count": 2,
   "metadata": {},
   "outputs": [
    {
     "name": "stdout",
     "output_type": "stream",
     "text": [
      "There are 514 types in Julia!\n"
     ]
    }
   ],
   "source": [
    "alltypes = subtypes(Any);\n",
    "println(\"There are $(length(alltypes)) types in Julia!\")"
   ]
  },
  {
   "cell_type": "code",
   "execution_count": 3,
   "metadata": {},
   "outputs": [
    {
     "data": {
      "text/plain": [
       "514-element Vector{Any}:\n",
       " AbstractArray\n",
       " AbstractChannel\n",
       " AbstractChar\n",
       " AbstractDict\n",
       " AbstractDisplay\n",
       " AbstractMatch\n",
       " AbstractPattern\n",
       " AbstractSet\n",
       " AbstractString\n",
       " Any\n",
       " Base.AbstractBroadcasted\n",
       " Base.AbstractCartesianIndex\n",
       " Base.AbstractCmd\n",
       " ⋮\n",
       " Tuple\n",
       " Type\n",
       " TypeVar\n",
       " UndefInitializer\n",
       " Val\n",
       " Vararg\n",
       " VecElement\n",
       " VersionNumber\n",
       " WeakRef\n",
       " ZMQ.Context\n",
       " ZMQ.Socket\n",
       " ZMQ._Message"
      ]
     },
     "execution_count": 3,
     "metadata": {},
     "output_type": "execute_result"
    }
   ],
   "source": [
    "alltypes"
   ]
  },
  {
   "cell_type": "code",
   "execution_count": 4,
   "metadata": {},
   "outputs": [
    {
     "data": {
      "text/plain": [
       "2-element Vector{Any}:\n",
       " Complex\n",
       " Real"
      ]
     },
     "execution_count": 4,
     "metadata": {},
     "output_type": "execute_result"
    }
   ],
   "source": [
    "subtypes(Number)"
   ]
  },
  {
   "cell_type": "code",
   "execution_count": 5,
   "metadata": {},
   "outputs": [
    {
     "data": {
      "text/plain": [
       "4-element Vector{Any}:\n",
       " AbstractFloat\n",
       " AbstractIrrational\n",
       " Integer\n",
       " Rational"
      ]
     },
     "execution_count": 5,
     "metadata": {},
     "output_type": "execute_result"
    }
   ],
   "source": [
    "subtypes(Real)"
   ]
  },
  {
   "cell_type": "code",
   "execution_count": 6,
   "metadata": {},
   "outputs": [
    {
     "data": {
      "text/plain": [
       "1-element Vector{Any}:\n",
       " Irrational"
      ]
     },
     "execution_count": 6,
     "metadata": {},
     "output_type": "execute_result"
    }
   ],
   "source": [
    "subtypes(AbstractIrrational)"
   ]
  },
  {
   "cell_type": "code",
   "execution_count": 7,
   "metadata": {},
   "outputs": [
    {
     "data": {
      "text/plain": [
       "4-element Vector{Any}:\n",
       " BigFloat\n",
       " Float16\n",
       " Float32\n",
       " Float64"
      ]
     },
     "execution_count": 7,
     "metadata": {},
     "output_type": "execute_result"
    }
   ],
   "source": [
    "subtypes(AbstractFloat)"
   ]
  },
  {
   "cell_type": "markdown",
   "metadata": {},
   "source": [
    "## Session 3 OKR\n",
    "\n",
    "**OBJECTIVE**: Demonstrate the dynamic programming features of Julia\n",
    " - [x] **KR1:** Shown or demonstrated the hierarchy of Julia's type hierarchy using the command `subtypes()`. \n",
    "    Start from `Number` and use `subtypes()` to explore from _abstract types_ down to _specific types_. \n",
    "    Use `supertype()` to determine the _parent_ abstract type.\n",
    " - [ ] **KR2:** Implemented and used at least one own composite type via `struct`.\n",
    "   Generate two more versions that are mutable type and type-parametrized of the custom-built type.\n",
    " - [ ] **KR3:** Demonstrated type inference in Julia.\n",
    "   Generators may be used for this.\n",
    " - [ ] **KR4:** Created a function with inherent type-*instability*.\n",
    "   Create a version of the function with fixed *type-instability* issues.\n",
    " - [ ] **KR5:** Demonstration of how `@code_warntype` can be useful in detecting *type-instability*.\n",
    " - [ ] **KR6:** Demonstration of how `Array`s containing ambiguous/abstract types often results to slow execution of codes.\n",
    "   The `BenchmarkTools` may be useful in this part."
   ]
  },
  {
   "cell_type": "markdown",
   "metadata": {},
   "source": [
    "# Creating customized Type via `struct`\n",
    "\n",
    "The keyword `struct` instructs Julia to create new data type structures similar to the behavior in `c/c++`."
   ]
  },
  {
   "cell_type": "code",
   "execution_count": 8,
   "metadata": {},
   "outputs": [
    {
     "name": "stdout",
     "output_type": "stream",
     "text": [
      "search: \u001b[0m\u001b[1ms\u001b[22m\u001b[0m\u001b[1mt\u001b[22m\u001b[0m\u001b[1mr\u001b[22m\u001b[0m\u001b[1mu\u001b[22m\u001b[0m\u001b[1mc\u001b[22m\u001b[0m\u001b[1mt\u001b[22m i\u001b[0m\u001b[1ms\u001b[22ms\u001b[0m\u001b[1mt\u001b[22m\u001b[0m\u001b[1mr\u001b[22m\u001b[0m\u001b[1mu\u001b[22m\u001b[0m\u001b[1mc\u001b[22m\u001b[0m\u001b[1mt\u001b[22mtype mutable \u001b[0m\u001b[1ms\u001b[22m\u001b[0m\u001b[1mt\u001b[22m\u001b[0m\u001b[1mr\u001b[22m\u001b[0m\u001b[1mu\u001b[22m\u001b[0m\u001b[1mc\u001b[22m\u001b[0m\u001b[1mt\u001b[22m un\u001b[0m\u001b[1ms\u001b[22mafe_\u001b[0m\u001b[1mt\u001b[22m\u001b[0m\u001b[1mr\u001b[22m\u001b[0m\u001b[1mu\u001b[22mn\u001b[0m\u001b[1mc\u001b[22m\n",
      "\n"
     ]
    },
    {
     "data": {
      "text/latex": [
       "\\begin{verbatim}\n",
       "struct\n",
       "\\end{verbatim}\n",
       "The most commonly used kind of type in Julia is a struct, specified as a name and a set of fields.\n",
       "\n",
       "\\begin{verbatim}\n",
       "struct Point\n",
       "    x\n",
       "    y\n",
       "end\n",
       "\\end{verbatim}\n",
       "Fields can have type restrictions, which may be parameterized:\n",
       "\n",
       "\\begin{verbatim}\n",
       "struct Point{X}\n",
       "    x::X\n",
       "    y::Float64\n",
       "end\n",
       "\\end{verbatim}\n",
       "A struct can also declare an abstract super type via \\texttt{<:} syntax:\n",
       "\n",
       "\\begin{verbatim}\n",
       "struct Point <: AbstractPoint\n",
       "    x\n",
       "    y\n",
       "end\n",
       "\\end{verbatim}\n",
       "\\texttt{struct}s are immutable by default; an instance of one of these types cannot be modified after construction. Use \\href{@ref}{\\texttt{mutable struct}} instead to declare a type whose instances can be modified.\n",
       "\n",
       "See the manual section on \\href{@ref}{Composite Types} for more details, such as how to define constructors.\n",
       "\n"
      ],
      "text/markdown": [
       "```\n",
       "struct\n",
       "```\n",
       "\n",
       "The most commonly used kind of type in Julia is a struct, specified as a name and a set of fields.\n",
       "\n",
       "```julia\n",
       "struct Point\n",
       "    x\n",
       "    y\n",
       "end\n",
       "```\n",
       "\n",
       "Fields can have type restrictions, which may be parameterized:\n",
       "\n",
       "```julia\n",
       "struct Point{X}\n",
       "    x::X\n",
       "    y::Float64\n",
       "end\n",
       "```\n",
       "\n",
       "A struct can also declare an abstract super type via `<:` syntax:\n",
       "\n",
       "```julia\n",
       "struct Point <: AbstractPoint\n",
       "    x\n",
       "    y\n",
       "end\n",
       "```\n",
       "\n",
       "`struct`s are immutable by default; an instance of one of these types cannot be modified after construction. Use [`mutable struct`](@ref) instead to declare a type whose instances can be modified.\n",
       "\n",
       "See the manual section on [Composite Types](@ref) for more details, such as how to define constructors.\n"
      ],
      "text/plain": [
       "\u001b[36m  struct\u001b[39m\n",
       "\n",
       "  The most commonly used kind of type in Julia is a struct, specified as a\n",
       "  name and a set of fields.\n",
       "\n",
       "\u001b[36m  struct Point\u001b[39m\n",
       "\u001b[36m      x\u001b[39m\n",
       "\u001b[36m      y\u001b[39m\n",
       "\u001b[36m  end\u001b[39m\n",
       "\n",
       "  Fields can have type restrictions, which may be parameterized:\n",
       "\n",
       "\u001b[36m  struct Point{X}\u001b[39m\n",
       "\u001b[36m      x::X\u001b[39m\n",
       "\u001b[36m      y::Float64\u001b[39m\n",
       "\u001b[36m  end\u001b[39m\n",
       "\n",
       "  A struct can also declare an abstract super type via \u001b[36m<:\u001b[39m syntax:\n",
       "\n",
       "\u001b[36m  struct Point <: AbstractPoint\u001b[39m\n",
       "\u001b[36m      x\u001b[39m\n",
       "\u001b[36m      y\u001b[39m\n",
       "\u001b[36m  end\u001b[39m\n",
       "\n",
       "  \u001b[36mstruct\u001b[39ms are immutable by default; an instance of one of these types cannot\n",
       "  be modified after construction. Use \u001b[36mmutable struct\u001b[39m instead to declare a type\n",
       "  whose instances can be modified.\n",
       "\n",
       "  See the manual section on Composite Types for more details, such as how to\n",
       "  define constructors."
      ]
     },
     "execution_count": 8,
     "metadata": {},
     "output_type": "execute_result"
    }
   ],
   "source": [
    "?struct"
   ]
  },
  {
   "cell_type": "markdown",
   "metadata": {},
   "source": []
  }
 ],
 "metadata": {
  "kernelspec": {
   "display_name": "Julia 1.6.1",
   "language": "julia",
   "name": "julia-1.6"
  },
  "language_info": {
   "file_extension": ".jl",
   "mimetype": "application/julia",
   "name": "julia",
   "version": "1.6.3"
  }
 },
 "nbformat": 4,
 "nbformat_minor": 2
}
